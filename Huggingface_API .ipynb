{
 "cells": [
  {
   "cell_type": "code",
   "execution_count": 1,
   "id": "322c344b",
   "metadata": {},
   "outputs": [],
   "source": [
    "from dotenv import load_dotenv\n",
    "import os\n",
    "\n",
    "load_dotenv()\n",
    "\n",
    "# Access the environment variables from the .env file\n",
    "api_key = os.environ.get('HF_TOKEN')"
   ]
  },
  {
   "cell_type": "code",
   "execution_count": 2,
   "id": "fb29a74a",
   "metadata": {},
   "outputs": [],
   "source": [
    "import requests\n",
    "\n",
    "API_URL = \"https://api-inference.huggingface.co/models/veronica320/TE-for-Event-Extraction\"\n",
    "headers = {\"Authorization\": \"Bearer {}\".format(api_key)}\n",
    "\n",
    "def query(payload):\n",
    "    response = requests.post(API_URL, headers=headers, json=payload)\n",
    "    return response.json()\n",
    "\n",
    "output = query({\"inputs\": \"please call daughter Dianne Thomas 07920 075650 - she is looking for support with her mum </s></s> Urgent\",})"
   ]
  },
  {
   "cell_type": "code",
   "execution_count": 3,
   "id": "d8a561e8",
   "metadata": {},
   "outputs": [
    {
     "name": "stdout",
     "output_type": "stream",
     "text": [
      "Contradiction: 0.696\n",
      "Entailment: 0.271\n",
      "Neutral: 0.033\n"
     ]
    }
   ],
   "source": [
    "# Create a dictionary to map the labels:\n",
    "label_map = {'LABEL_0': 'Contradiction', 'LABEL_1': 'Neutral', 'LABEL_2': 'Entailment'}\n",
    "\n",
    "# Iterate through labels in the output:\n",
    "for item in output[0]:\n",
    "    label = item['label']\n",
    "    score = item['score']\n",
    "    letter = label_map[label]\n",
    "    print(\"{}: {}\".format(letter,round(score,3)))"
   ]
  },
  {
   "cell_type": "code",
   "execution_count": null,
   "id": "55a13ea8",
   "metadata": {},
   "outputs": [],
   "source": []
  }
 ],
 "metadata": {
  "kernelspec": {
   "display_name": "Python 3 (ipykernel)",
   "language": "python",
   "name": "python3"
  },
  "language_info": {
   "codemirror_mode": {
    "name": "ipython",
    "version": 3
   },
   "file_extension": ".py",
   "mimetype": "text/x-python",
   "name": "python",
   "nbconvert_exporter": "python",
   "pygments_lexer": "ipython3",
   "version": "3.9.12"
  }
 },
 "nbformat": 4,
 "nbformat_minor": 5
}
